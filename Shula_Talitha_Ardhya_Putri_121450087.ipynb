{
  "nbformat": 4,
  "nbformat_minor": 0,
  "metadata": {
    "colab": {
      "provenance": []
    },
    "kernelspec": {
      "name": "python3",
      "display_name": "Python 3"
    },
    "language_info": {
      "name": "python"
    }
  },
  "cells": [
    {
      "cell_type": "markdown",
      "source": [
        "# 1. Jelaskan menggunakan tabel mengenai kelebihan dan kekurangan paradigma procedural dibandingkan dengan object oriented (minimal 3) !"
      ],
      "metadata": {
        "id": "yUWSK6JmLUaM"
      }
    },
    {
      "cell_type": "markdown",
      "source": [
        "| Kelebihan Object Oriented | Kekurangan Object Oriented   | \n",
        "| ------ | --- | \n",
        "| Maintanance program lebih mudah     | Kompleks untuk dipelajari   | \n",
        "| Update program lebih mudah      | Ukuran program OOP lebih besar   | \n",
        "| Proses development lebih cepat      | Runtime program OOP lebih lambat | "
      ],
      "metadata": {
        "id": "DNX2SNlkOqep"
      }
    },
    {
      "cell_type": "markdown",
      "source": [
        "| Kelebihan Paradigma Procedural | Kekurangan Paradigma Procedural   | \n",
        "| ------ | --- | \n",
        "| Penulisan lebih sederhana dan terstruktur     | Program yang cukup sulit untuk proses perawatan   | \n",
        "| Kemudahan implementasi untuk compiler dan interpreter      | Fungsi yang tersedia, susah untuk diubah tanpa harus mempengaruhi fungsi sistem secara keseluruhan   | \n",
        "| Mudah ditelusuri      | Butuh usaha yang keras untuk menterjemahkan Business Models dalam programming models | "
      ],
      "metadata": {
        "id": "iSW_jL6sQL8t"
      }
    },
    {
      "cell_type": "markdown",
      "source": [
        "# 2. Jelaskan menggunakan tabel mengenai kelebihan dan kekurangan paradigma object oriented dibandingkan dengan functional (minimal 3) !"
      ],
      "metadata": {
        "id": "KfUCJeI9RFsT"
      }
    },
    {
      "cell_type": "markdown",
      "source": [
        "| Kelebihan Paradigma Object Oriented | Kekurangan Paradigma Object Oriented   | \n",
        "| ------ | --- | \n",
        "| Maintanance program lebih mudah     | Kompleks untuk dipelajari   | \n",
        "| Update program lebih mudah      | Ukuran program OOP lebih besar   | \n",
        "| Proses development lebih cepat      | Runtime program OOP lebih lambat | "
      ],
      "metadata": {
        "id": "aVETIvg_RKei"
      }
    },
    {
      "cell_type": "markdown",
      "source": [
        "| Kelebihan Paradigma Fungsional | Kekurangan Paradigma Fungsi   | \n",
        "| ------ | --- | \n",
        "| Membuat program menjadi lebih modular yang artinya perangkat lunak dapat lebih mudah untuk ditambah atau dikurangi fiturnya    | Relatif sulit untuk dipelajari oleh pemula   | \n",
        "| Membantu proses debug menjadi lebih cepat karena dapat ditrack berdasarkan fungsi yang mengalami galat      | Pemeliharaan sulit ketika digunakan untuk proyek berskala besar   | \n",
        "| Mengubah masalah kompleks menjadi potongan-potongan kecil yang jauh lebih sederhana untuk diselesaikan      | Menjaga reusability dari suatu fungsi adalah hal yang tidak mudah untuk dilakukan | "
      ],
      "metadata": {
        "id": "xHhQYnOgYmIv"
      }
    },
    {
      "cell_type": "markdown",
      "source": [
        "# 3. Jelaskan menggunakan tabel mengenai kelebihan dan kekurangan paradigma procedural dibandingkan dengan functional (minimal 3) !"
      ],
      "metadata": {
        "id": "JWiUscznZnDc"
      }
    },
    {
      "cell_type": "markdown",
      "source": [
        "| Kelebihan Paradigma Procedural | Kekurangan Paradigma Procedural   | \n",
        "| ------ | --- | \n",
        "| Penulisan lebih sederhana dan terstruktur     | Program yang cukup sulit untuk proses perawatan   | \n",
        "| Kemudahan implementasi untuk compiler dan interpreter      | Fungsi yang tersedia, susah untuk diubah tanpa harus mempengaruhi fungsi sistem secara keseluruhan   | \n",
        "| Mudah ditelusuri      | Butuh usaha yang keras untuk menterjemahkan Business Models dalam programming models | "
      ],
      "metadata": {
        "id": "QkRUCMFHZwpv"
      }
    },
    {
      "cell_type": "markdown",
      "source": [
        "| Kelebihan Paradigma Fungsional | Kekurangan Paradigma Fungsi   | \n",
        "| ------ | --- | \n",
        "| Membuat program menjadi lebih modular yang artinya perangkat lunak dapat lebih mudah untuk ditambah atau dikurangi fiturnya    | Relatif sulit untuk dipelajari oleh pemula   | \n",
        "| Membantu proses debug menjadi lebih cepat karena dapat ditrack berdasarkan fungsi yang mengalami galat      | Pemeliharaan sulit ketika digunakan untuk proyek berskala besar   | \n",
        "| Mengubah masalah kompleks menjadi potongan-potongan kecil yang jauh lebih sederhana untuk diselesaikan      | Menjaga reusability dari suatu fungsi adalah hal yang tidak mudah untuk dilakukan | "
      ],
      "metadata": {
        "id": "42LD_Y5saGKx"
      }
    },
    {
      "cell_type": "markdown",
      "source": [
        "# 4. Apa yang dimaksud dengan pure functional programming language?"
      ],
      "metadata": {
        "id": "ie6CoSxFaHne"
      }
    },
    {
      "cell_type": "markdown",
      "source": [
        "Functional programming adalah salah satu dari dua paradigma pemrograman utama, di samping object-oriented programming."
      ],
      "metadata": {
        "id": "EOi65ED-aMXE"
      }
    },
    {
      "cell_type": "markdown",
      "source": [
        "# 5. Dari bahasa pemrograman FP di slide sebelumnya ( slide 14 ) , manakah yang termasuk pure functional programming language?"
      ],
      "metadata": {
        "id": "_92UFQ3vazb6"
      }
    },
    {
      "cell_type": "markdown",
      "source": [
        "*   Lisp\n",
        "*   Haskell\n",
        "*   Scala\n",
        "*   Java Script\n",
        "*   Python"
      ],
      "metadata": {
        "id": "ozGNYLKrbYvW"
      }
    },
    {
      "cell_type": "markdown",
      "source": [
        "# 6. Membuat program Simple Password encryption, dengan ketentuan\n",
        "1. Input password bertipe string dengan batasan panjang password\n",
        "100 karakter\n",
        "2. Setiap karakter dari string tersebut diubah menjadi ASCII value\n",
        "3. Kemudian setiap ASCII value tersebut dikembangkan menjadi 3\n",
        "value dengan dilakukan operasi berikut:\n",
        "  \n",
        "  1. Value pertama dibagi dengan integer 26 kemudian\n",
        "dibulatkan dan dijumlahkan dengan 80 kemudian diubah\n",
        "kembali menjadi karakter\n",
        "  2. Value kedua dihitung sisa bagi dengan 26 kemudian\n",
        "dijumlahkan dengan 80 kemudian diubah kembali menjadi\n",
        "karakter\n",
        "  3. Value ketiga adalah karakter ‘+’ jika value pertama lebih\n",
        "besar dari value kedua, atau value ketiga adalah karakter ‘-’\n",
        "jika value pertama tidak lebih besar dari value kedua\n",
        "  4. Deretkan value pertama, kedua dan ketiga untuk setiap karakter\n",
        "dalam password tersebut sehingga didapatkan password dalam\n",
        "bentuk baru"
      ],
      "metadata": {
        "id": "7NXPBW0xbfIA"
      }
    },
    {
      "cell_type": "markdown",
      "source": [
        "1. Bantulah user tersebut dengan membuatkan sebuah program yang secara otomatis mengubah password yang di input menjadi terenkripsi sesuai aturan tersebut!\n",
        "2. Apa output yang dihasilkan dari program tersebut jika input password adalah 'anakanakcerdas2020' ?"
      ],
      "metadata": {
        "id": "mTODi2mkb57N"
      }
    },
    {
      "cell_type": "code",
      "execution_count": null,
      "metadata": {
        "colab": {
          "base_uri": "https://localhost:8080/"
        },
        "id": "QCytqd4RLCm1",
        "outputId": "36357d05-38d4-4b41-c816-a613dcbcc665"
      },
      "outputs": [
        {
          "output_type": "stream",
          "name": "stdout",
          "text": [
            "Masukkan Password: YangJungwon\n",
            "Encryption Password:  S[-Sc-TV-Si-Rf-T]-TV-Si-T_-TW-TV-\n"
          ]
        }
      ],
      "source": [
        "def Encryption(pwd):\n",
        "  if len(pwd) > 100 or len(pwd) == 0:\n",
        "    print(\"Masukkan password maksimal 100 karakter tidak boleh lebih\")\n",
        "  else:\n",
        "    # Change each character into ASCII value\n",
        "    ascii = [str(ord(n)) for n in pwd] \n",
        "\n",
        "    # divide the 3 value \n",
        "    Encryption = \"\".join(chr((int(j)//26)+80) + chr((int(j)%26)+80) + (\"+\" if (int(j)//26)+80 > (int(j)%26)+80 else \"-\") for j in ascii)\n",
        "\n",
        "    # output \n",
        "    print(\"Encryption Password: \", Encryption)\n",
        "\n",
        "# descryption function\n",
        "def Descryption(pwd):\n",
        "\n",
        "  # divide into 3 value \n",
        "  split = [(pwd[i:i+3]) for i in range(0, len(pwd), 3)]\n",
        "  # creates 3 values ​​back to ascii code then to original character and concatenates them all\n",
        "  decrypt = ''.join(chr(((ord(list(z)[0])-80)*26)+(ord(list(z)[1])-80)) for z in split)\n",
        "  # displays the results of the description\n",
        "  print(\"The password is: \", decrypt)\n",
        "\n",
        "  # encryption\n",
        "pwd = input(\"Masukkan Password: \")\n",
        "Encryption(pwd)"
      ]
    }
  ]
}